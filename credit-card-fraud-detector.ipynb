{
 "cells": [
  {
   "cell_type": "code",
   "execution_count": 1,
   "id": "d000cf5e",
   "metadata": {
    "execution": {
     "iopub.execute_input": "2021-07-27T11:10:03.499818Z",
     "iopub.status.busy": "2021-07-27T11:10:03.498926Z",
     "iopub.status.idle": "2021-07-27T11:10:04.672445Z",
     "shell.execute_reply": "2021-07-27T11:10:04.671587Z",
     "shell.execute_reply.started": "2021-07-27T10:30:10.782561Z"
    },
    "papermill": {
     "duration": 1.203917,
     "end_time": "2021-07-27T11:10:04.672626",
     "exception": false,
     "start_time": "2021-07-27T11:10:03.468709",
     "status": "completed"
    },
    "tags": []
   },
   "outputs": [],
   "source": [
    "import pandas as pd\n",
    "import matplotlib.pyplot as plt\n",
    "import numpy as np\n",
    "import seaborn as sns\n",
    "import warnings\n",
    "warnings.filterwarnings(\"ignore\")"
   ]
  },
  {
   "cell_type": "code",
   "execution_count": 2,
   "id": "e6a670b6",
   "metadata": {
    "execution": {
     "iopub.execute_input": "2021-07-27T11:10:04.705715Z",
     "iopub.status.busy": "2021-07-27T11:10:04.704695Z",
     "iopub.status.idle": "2021-07-27T11:10:09.753616Z",
     "shell.execute_reply": "2021-07-27T11:10:09.754191Z",
     "shell.execute_reply.started": "2021-07-27T10:30:11.908782Z"
    },
    "papermill": {
     "duration": 5.067959,
     "end_time": "2021-07-27T11:10:09.754422",
     "exception": false,
     "start_time": "2021-07-27T11:10:04.686463",
     "status": "completed"
    },
    "tags": []
   },
   "outputs": [
    {
     "data": {
      "text/html": [
       "<div>\n",
       "<style scoped>\n",
       "    .dataframe tbody tr th:only-of-type {\n",
       "        vertical-align: middle;\n",
       "    }\n",
       "\n",
       "    .dataframe tbody tr th {\n",
       "        vertical-align: top;\n",
       "    }\n",
       "\n",
       "    .dataframe thead th {\n",
       "        text-align: right;\n",
       "    }\n",
       "</style>\n",
       "<table border=\"1\" class=\"dataframe\">\n",
       "  <thead>\n",
       "    <tr style=\"text-align: right;\">\n",
       "      <th></th>\n",
       "      <th>Time</th>\n",
       "      <th>V1</th>\n",
       "      <th>V2</th>\n",
       "      <th>V3</th>\n",
       "      <th>V4</th>\n",
       "      <th>V5</th>\n",
       "      <th>V6</th>\n",
       "      <th>V7</th>\n",
       "      <th>V8</th>\n",
       "      <th>V9</th>\n",
       "      <th>...</th>\n",
       "      <th>V21</th>\n",
       "      <th>V22</th>\n",
       "      <th>V23</th>\n",
       "      <th>V24</th>\n",
       "      <th>V25</th>\n",
       "      <th>V26</th>\n",
       "      <th>V27</th>\n",
       "      <th>V28</th>\n",
       "      <th>Amount</th>\n",
       "      <th>Class</th>\n",
       "    </tr>\n",
       "  </thead>\n",
       "  <tbody>\n",
       "    <tr>\n",
       "      <th>0</th>\n",
       "      <td>0.0</td>\n",
       "      <td>-1.359807</td>\n",
       "      <td>-0.072781</td>\n",
       "      <td>2.536347</td>\n",
       "      <td>1.378155</td>\n",
       "      <td>-0.338321</td>\n",
       "      <td>0.462388</td>\n",
       "      <td>0.239599</td>\n",
       "      <td>0.098698</td>\n",
       "      <td>0.363787</td>\n",
       "      <td>...</td>\n",
       "      <td>-0.018307</td>\n",
       "      <td>0.277838</td>\n",
       "      <td>-0.110474</td>\n",
       "      <td>0.066928</td>\n",
       "      <td>0.128539</td>\n",
       "      <td>-0.189115</td>\n",
       "      <td>0.133558</td>\n",
       "      <td>-0.021053</td>\n",
       "      <td>149.62</td>\n",
       "      <td>0</td>\n",
       "    </tr>\n",
       "    <tr>\n",
       "      <th>1</th>\n",
       "      <td>0.0</td>\n",
       "      <td>1.191857</td>\n",
       "      <td>0.266151</td>\n",
       "      <td>0.166480</td>\n",
       "      <td>0.448154</td>\n",
       "      <td>0.060018</td>\n",
       "      <td>-0.082361</td>\n",
       "      <td>-0.078803</td>\n",
       "      <td>0.085102</td>\n",
       "      <td>-0.255425</td>\n",
       "      <td>...</td>\n",
       "      <td>-0.225775</td>\n",
       "      <td>-0.638672</td>\n",
       "      <td>0.101288</td>\n",
       "      <td>-0.339846</td>\n",
       "      <td>0.167170</td>\n",
       "      <td>0.125895</td>\n",
       "      <td>-0.008983</td>\n",
       "      <td>0.014724</td>\n",
       "      <td>2.69</td>\n",
       "      <td>0</td>\n",
       "    </tr>\n",
       "    <tr>\n",
       "      <th>2</th>\n",
       "      <td>1.0</td>\n",
       "      <td>-1.358354</td>\n",
       "      <td>-1.340163</td>\n",
       "      <td>1.773209</td>\n",
       "      <td>0.379780</td>\n",
       "      <td>-0.503198</td>\n",
       "      <td>1.800499</td>\n",
       "      <td>0.791461</td>\n",
       "      <td>0.247676</td>\n",
       "      <td>-1.514654</td>\n",
       "      <td>...</td>\n",
       "      <td>0.247998</td>\n",
       "      <td>0.771679</td>\n",
       "      <td>0.909412</td>\n",
       "      <td>-0.689281</td>\n",
       "      <td>-0.327642</td>\n",
       "      <td>-0.139097</td>\n",
       "      <td>-0.055353</td>\n",
       "      <td>-0.059752</td>\n",
       "      <td>378.66</td>\n",
       "      <td>0</td>\n",
       "    </tr>\n",
       "    <tr>\n",
       "      <th>3</th>\n",
       "      <td>1.0</td>\n",
       "      <td>-0.966272</td>\n",
       "      <td>-0.185226</td>\n",
       "      <td>1.792993</td>\n",
       "      <td>-0.863291</td>\n",
       "      <td>-0.010309</td>\n",
       "      <td>1.247203</td>\n",
       "      <td>0.237609</td>\n",
       "      <td>0.377436</td>\n",
       "      <td>-1.387024</td>\n",
       "      <td>...</td>\n",
       "      <td>-0.108300</td>\n",
       "      <td>0.005274</td>\n",
       "      <td>-0.190321</td>\n",
       "      <td>-1.175575</td>\n",
       "      <td>0.647376</td>\n",
       "      <td>-0.221929</td>\n",
       "      <td>0.062723</td>\n",
       "      <td>0.061458</td>\n",
       "      <td>123.50</td>\n",
       "      <td>0</td>\n",
       "    </tr>\n",
       "    <tr>\n",
       "      <th>4</th>\n",
       "      <td>2.0</td>\n",
       "      <td>-1.158233</td>\n",
       "      <td>0.877737</td>\n",
       "      <td>1.548718</td>\n",
       "      <td>0.403034</td>\n",
       "      <td>-0.407193</td>\n",
       "      <td>0.095921</td>\n",
       "      <td>0.592941</td>\n",
       "      <td>-0.270533</td>\n",
       "      <td>0.817739</td>\n",
       "      <td>...</td>\n",
       "      <td>-0.009431</td>\n",
       "      <td>0.798278</td>\n",
       "      <td>-0.137458</td>\n",
       "      <td>0.141267</td>\n",
       "      <td>-0.206010</td>\n",
       "      <td>0.502292</td>\n",
       "      <td>0.219422</td>\n",
       "      <td>0.215153</td>\n",
       "      <td>69.99</td>\n",
       "      <td>0</td>\n",
       "    </tr>\n",
       "  </tbody>\n",
       "</table>\n",
       "<p>5 rows × 31 columns</p>\n",
       "</div>"
      ],
      "text/plain": [
       "   Time        V1        V2        V3        V4        V5        V6        V7  \\\n",
       "0   0.0 -1.359807 -0.072781  2.536347  1.378155 -0.338321  0.462388  0.239599   \n",
       "1   0.0  1.191857  0.266151  0.166480  0.448154  0.060018 -0.082361 -0.078803   \n",
       "2   1.0 -1.358354 -1.340163  1.773209  0.379780 -0.503198  1.800499  0.791461   \n",
       "3   1.0 -0.966272 -0.185226  1.792993 -0.863291 -0.010309  1.247203  0.237609   \n",
       "4   2.0 -1.158233  0.877737  1.548718  0.403034 -0.407193  0.095921  0.592941   \n",
       "\n",
       "         V8        V9  ...       V21       V22       V23       V24       V25  \\\n",
       "0  0.098698  0.363787  ... -0.018307  0.277838 -0.110474  0.066928  0.128539   \n",
       "1  0.085102 -0.255425  ... -0.225775 -0.638672  0.101288 -0.339846  0.167170   \n",
       "2  0.247676 -1.514654  ...  0.247998  0.771679  0.909412 -0.689281 -0.327642   \n",
       "3  0.377436 -1.387024  ... -0.108300  0.005274 -0.190321 -1.175575  0.647376   \n",
       "4 -0.270533  0.817739  ... -0.009431  0.798278 -0.137458  0.141267 -0.206010   \n",
       "\n",
       "        V26       V27       V28  Amount  Class  \n",
       "0 -0.189115  0.133558 -0.021053  149.62      0  \n",
       "1  0.125895 -0.008983  0.014724    2.69      0  \n",
       "2 -0.139097 -0.055353 -0.059752  378.66      0  \n",
       "3 -0.221929  0.062723  0.061458  123.50      0  \n",
       "4  0.502292  0.219422  0.215153   69.99      0  \n",
       "\n",
       "[5 rows x 31 columns]"
      ]
     },
     "execution_count": 2,
     "metadata": {},
     "output_type": "execute_result"
    }
   ],
   "source": [
    "data = pd.read_csv('../input/creditcardfraud/creditcard.csv')\n",
    "data.head()"
   ]
  },
  {
   "cell_type": "code",
   "execution_count": 3,
   "id": "356b5d0b",
   "metadata": {
    "execution": {
     "iopub.execute_input": "2021-07-27T11:10:09.810642Z",
     "iopub.status.busy": "2021-07-27T11:10:09.809701Z",
     "iopub.status.idle": "2021-07-27T11:10:10.271175Z",
     "shell.execute_reply": "2021-07-27T11:10:10.270359Z",
     "shell.execute_reply.started": "2021-07-27T10:30:17.947153Z"
    },
    "papermill": {
     "duration": 0.502207,
     "end_time": "2021-07-27T11:10:10.271371",
     "exception": false,
     "start_time": "2021-07-27T11:10:09.769164",
     "status": "completed"
    },
    "tags": []
   },
   "outputs": [
    {
     "data": {
      "image/png": "[encoded data removed]",
      "text/plain": [
       "<Figure size 360x864 with 1 Axes>"
      ]
     },
     "metadata": {
      "needs_background": "light"
     },
     "output_type": "display_data"
    }
   ],
   "source": [
    "plt.figure(figsize=(5,12))\n",
    "plt.title('Total Missing Values')\n",
    "ax = sns.heatmap(data.isna().sum().to_frame(),annot=True,fmt='1.0f',cbar=False)\n",
    "ax.set_xlabel('Null value count')\n",
    "plt.show()"
   ]
  },
  {
   "cell_type": "code",
   "execution_count": 4,
   "id": "d2af68e2",
   "metadata": {
    "execution": {
     "iopub.execute_input": "2021-07-27T11:10:10.313704Z",
     "iopub.status.busy": "2021-07-27T11:10:10.312950Z",
     "iopub.status.idle": "2021-07-27T11:10:10.554682Z",
     "shell.execute_reply": "2021-07-27T11:10:10.555223Z",
     "shell.execute_reply.started": "2021-07-27T10:30:18.414493Z"
    },
    "papermill": {
     "duration": 0.26739,
     "end_time": "2021-07-27T11:10:10.555463",
     "exception": false,
     "start_time": "2021-07-27T11:10:10.288073",
     "status": "completed"
    },
    "tags": []
   },
   "outputs": [
    {
     "data": {
      "image/png": "[encoded data removed]",
      "text/plain": [
       "<Figure size 432x288 with 1 Axes>"
      ]
     },
     "metadata": {
      "needs_background": "light"
     },
     "output_type": "display_data"
    },
    {
     "data": {
      "image/png": "[encoded data removed]",
      "text/plain": [
       "<Figure size 432x288 with 1 Axes>"
      ]
     },
     "metadata": {},
     "output_type": "display_data"
    }
   ],
   "source": [
    "sns.countplot('Class', data=data)\n",
    "plt.title('Class Distribution \\n (0: Not Fraud | 1: Fraud)', fontsize=14)\n",
    "plt.show()\n",
    "label=['Not Fraud', 'Fraud']\n",
    "fig = plt.pie(data['Class'].value_counts(),labels=label,autopct='%1.2f%%',radius=1.25)\n",
    "plt.title('Proportion of classes in the sample',fontsize=14)\n",
    "plt.show()"
   ]
  },
  {
   "cell_type": "code",
   "execution_count": 5,
   "id": "fd2ed22a",
   "metadata": {
    "execution": {
     "iopub.execute_input": "2021-07-27T11:10:10.634006Z",
     "iopub.status.busy": "2021-07-27T11:10:10.616375Z",
     "iopub.status.idle": "2021-07-27T11:10:10.916120Z",
     "shell.execute_reply": "2021-07-27T11:10:10.915410Z",
     "shell.execute_reply.started": "2021-07-27T10:30:18.656836Z"
    },
    "papermill": {
     "duration": 0.342785,
     "end_time": "2021-07-27T11:10:10.916299",
     "exception": false,
     "start_time": "2021-07-27T11:10:10.573514",
     "status": "completed"
    },
    "tags": []
   },
   "outputs": [
    {
     "data": {
      "image/png": "[encoded data removed]",
      "text/plain": [
       "<Figure size 1296x288 with 2 Axes>"
      ]
     },
     "metadata": {
      "needs_background": "light"
     },
     "output_type": "display_data"
    }
   ],
   "source": [
    "fig, ax = plt.subplots(1, 2, figsize=(18,4))\n",
    "\n",
    "sns.boxplot(data['Amount'].values, ax=ax[0])\n",
    "ax[0].set_title('Distribution of Transaction Amount', fontsize=14)\n",
    "\n",
    "sns.boxplot(data['Time'].values, ax=ax[1])\n",
    "ax[1].set_title('Distribution of Transaction Time', fontsize=14) \n",
    "\n",
    "plt.show()"
   ]
  },
  {
   "cell_type": "code",
   "execution_count": 6,
   "id": "652cd291",
   "metadata": {
    "execution": {
     "iopub.execute_input": "2021-07-27T11:10:10.960164Z",
     "iopub.status.busy": "2021-07-27T11:10:10.959381Z",
     "iopub.status.idle": "2021-07-27T11:10:11.173959Z",
     "shell.execute_reply": "2021-07-27T11:10:11.174486Z",
     "shell.execute_reply.started": "2021-07-27T10:30:18.967655Z"
    },
    "papermill": {
     "duration": 0.240003,
     "end_time": "2021-07-27T11:10:11.174712",
     "exception": false,
     "start_time": "2021-07-27T11:10:10.934709",
     "status": "completed"
    },
    "tags": []
   },
   "outputs": [
    {
     "data": {
      "text/html": [
       "<div>\n",
       "<style scoped>\n",
       "    .dataframe tbody tr th:only-of-type {\n",
       "        vertical-align: middle;\n",
       "    }\n",
       "\n",
       "    .dataframe tbody tr th {\n",
       "        vertical-align: top;\n",
       "    }\n",
       "\n",
       "    .dataframe thead th {\n",
       "        text-align: right;\n",
       "    }\n",
       "</style>\n",
       "<table border=\"1\" class=\"dataframe\">\n",
       "  <thead>\n",
       "    <tr style=\"text-align: right;\">\n",
       "      <th></th>\n",
       "      <th>Amount</th>\n",
       "      <th>Time</th>\n",
       "      <th>V1</th>\n",
       "      <th>V2</th>\n",
       "      <th>V3</th>\n",
       "      <th>V4</th>\n",
       "      <th>V5</th>\n",
       "      <th>V6</th>\n",
       "      <th>V7</th>\n",
       "      <th>V8</th>\n",
       "      <th>...</th>\n",
       "      <th>V20</th>\n",
       "      <th>V21</th>\n",
       "      <th>V22</th>\n",
       "      <th>V23</th>\n",
       "      <th>V24</th>\n",
       "      <th>V25</th>\n",
       "      <th>V26</th>\n",
       "      <th>V27</th>\n",
       "      <th>V28</th>\n",
       "      <th>Class</th>\n",
       "    </tr>\n",
       "  </thead>\n",
       "  <tbody>\n",
       "    <tr>\n",
       "      <th>0</th>\n",
       "      <td>1.783274</td>\n",
       "      <td>-0.994983</td>\n",
       "      <td>-1.359807</td>\n",
       "      <td>-0.072781</td>\n",
       "      <td>2.536347</td>\n",
       "      <td>1.378155</td>\n",
       "      <td>-0.338321</td>\n",
       "      <td>0.462388</td>\n",
       "      <td>0.239599</td>\n",
       "      <td>0.098698</td>\n",
       "      <td>...</td>\n",
       "      <td>0.251412</td>\n",
       "      <td>-0.018307</td>\n",
       "      <td>0.277838</td>\n",
       "      <td>-0.110474</td>\n",
       "      <td>0.066928</td>\n",
       "      <td>0.128539</td>\n",
       "      <td>-0.189115</td>\n",
       "      <td>0.133558</td>\n",
       "      <td>-0.021053</td>\n",
       "      <td>0</td>\n",
       "    </tr>\n",
       "    <tr>\n",
       "      <th>1</th>\n",
       "      <td>-0.269825</td>\n",
       "      <td>-0.994983</td>\n",
       "      <td>1.191857</td>\n",
       "      <td>0.266151</td>\n",
       "      <td>0.166480</td>\n",
       "      <td>0.448154</td>\n",
       "      <td>0.060018</td>\n",
       "      <td>-0.082361</td>\n",
       "      <td>-0.078803</td>\n",
       "      <td>0.085102</td>\n",
       "      <td>...</td>\n",
       "      <td>-0.069083</td>\n",
       "      <td>-0.225775</td>\n",
       "      <td>-0.638672</td>\n",
       "      <td>0.101288</td>\n",
       "      <td>-0.339846</td>\n",
       "      <td>0.167170</td>\n",
       "      <td>0.125895</td>\n",
       "      <td>-0.008983</td>\n",
       "      <td>0.014724</td>\n",
       "      <td>0</td>\n",
       "    </tr>\n",
       "    <tr>\n",
       "      <th>2</th>\n",
       "      <td>4.983721</td>\n",
       "      <td>-0.994972</td>\n",
       "      <td>-1.358354</td>\n",
       "      <td>-1.340163</td>\n",
       "      <td>1.773209</td>\n",
       "      <td>0.379780</td>\n",
       "      <td>-0.503198</td>\n",
       "      <td>1.800499</td>\n",
       "      <td>0.791461</td>\n",
       "      <td>0.247676</td>\n",
       "      <td>...</td>\n",
       "      <td>0.524980</td>\n",
       "      <td>0.247998</td>\n",
       "      <td>0.771679</td>\n",
       "      <td>0.909412</td>\n",
       "      <td>-0.689281</td>\n",
       "      <td>-0.327642</td>\n",
       "      <td>-0.139097</td>\n",
       "      <td>-0.055353</td>\n",
       "      <td>-0.059752</td>\n",
       "      <td>0</td>\n",
       "    </tr>\n",
       "    <tr>\n",
       "      <th>3</th>\n",
       "      <td>1.418291</td>\n",
       "      <td>-0.994972</td>\n",
       "      <td>-0.966272</td>\n",
       "      <td>-0.185226</td>\n",
       "      <td>1.792993</td>\n",
       "      <td>-0.863291</td>\n",
       "      <td>-0.010309</td>\n",
       "      <td>1.247203</td>\n",
       "      <td>0.237609</td>\n",
       "      <td>0.377436</td>\n",
       "      <td>...</td>\n",
       "      <td>-0.208038</td>\n",
       "      <td>-0.108300</td>\n",
       "      <td>0.005274</td>\n",
       "      <td>-0.190321</td>\n",
       "      <td>-1.175575</td>\n",
       "      <td>0.647376</td>\n",
       "      <td>-0.221929</td>\n",
       "      <td>0.062723</td>\n",
       "      <td>0.061458</td>\n",
       "      <td>0</td>\n",
       "    </tr>\n",
       "    <tr>\n",
       "      <th>4</th>\n",
       "      <td>0.670579</td>\n",
       "      <td>-0.994960</td>\n",
       "      <td>-1.158233</td>\n",
       "      <td>0.877737</td>\n",
       "      <td>1.548718</td>\n",
       "      <td>0.403034</td>\n",
       "      <td>-0.407193</td>\n",
       "      <td>0.095921</td>\n",
       "      <td>0.592941</td>\n",
       "      <td>-0.270533</td>\n",
       "      <td>...</td>\n",
       "      <td>0.408542</td>\n",
       "      <td>-0.009431</td>\n",
       "      <td>0.798278</td>\n",
       "      <td>-0.137458</td>\n",
       "      <td>0.141267</td>\n",
       "      <td>-0.206010</td>\n",
       "      <td>0.502292</td>\n",
       "      <td>0.219422</td>\n",
       "      <td>0.215153</td>\n",
       "      <td>0</td>\n",
       "    </tr>\n",
       "  </tbody>\n",
       "</table>\n",
       "<p>5 rows × 31 columns</p>\n",
       "</div>"
      ],
      "text/plain": [
       "     Amount      Time        V1        V2        V3        V4        V5  \\\n",
       "0  1.783274 -0.994983 -1.359807 -0.072781  2.536347  1.378155 -0.338321   \n",
       "1 -0.269825 -0.994983  1.191857  0.266151  0.166480  0.448154  0.060018   \n",
       "2  4.983721 -0.994972 -1.358354 -1.340163  1.773209  0.379780 -0.503198   \n",
       "3  1.418291 -0.994972 -0.966272 -0.185226  1.792993 -0.863291 -0.010309   \n",
       "4  0.670579 -0.994960 -1.158233  0.877737  1.548718  0.403034 -0.407193   \n",
       "\n",
       "         V6        V7        V8  ...       V20       V21       V22       V23  \\\n",
       "0  0.462388  0.239599  0.098698  ...  0.251412 -0.018307  0.277838 -0.110474   \n",
       "1 -0.082361 -0.078803  0.085102  ... -0.069083 -0.225775 -0.638672  0.101288   \n",
       "2  1.800499  0.791461  0.247676  ...  0.524980  0.247998  0.771679  0.909412   \n",
       "3  1.247203  0.237609  0.377436  ... -0.208038 -0.108300  0.005274 -0.190321   \n",
       "4  0.095921  0.592941 -0.270533  ...  0.408542 -0.009431  0.798278 -0.137458   \n",
       "\n",
       "        V24       V25       V26       V27       V28  Class  \n",
       "0  0.066928  0.128539 -0.189115  0.133558 -0.021053      0  \n",
       "1 -0.339846  0.167170  0.125895 -0.008983  0.014724      0  \n",
       "2 -0.689281 -0.327642 -0.139097 -0.055353 -0.059752      0  \n",
       "3 -1.175575  0.647376 -0.221929  0.062723  0.061458      0  \n",
       "4  0.141267 -0.206010  0.502292  0.219422  0.215153      0  \n",
       "\n",
       "[5 rows x 31 columns]"
      ]
     },
     "execution_count": 6,
     "metadata": {},
     "output_type": "execute_result"
    }
   ],
   "source": [
    "# Scaling columns Amount and Time (since rest of the data has already been scaled) using RobustScaler as it works better with outliers\n",
    "from sklearn.preprocessing import RobustScaler\n",
    "scaled_amount = RobustScaler().fit_transform(data['Amount'].values.reshape(-1,1))\n",
    "scaled_time = RobustScaler().fit_transform(data['Time'].values.reshape(-1,1))\n",
    "data.drop(['Time','Amount'], axis=1, inplace=True)\n",
    "data.insert(0, 'Amount', scaled_amount)\n",
    "data.insert(1, 'Time', scaled_time)\n",
    "data.head()"
   ]
  },
  {
   "cell_type": "code",
   "execution_count": 7,
   "id": "0b62f774",
   "metadata": {
    "execution": {
     "iopub.execute_input": "2021-07-27T11:10:11.216947Z",
     "iopub.status.busy": "2021-07-27T11:10:11.216259Z",
     "iopub.status.idle": "2021-07-27T11:10:13.300488Z",
     "shell.execute_reply": "2021-07-27T11:10:13.299820Z",
     "shell.execute_reply.started": "2021-07-27T10:30:19.175276Z"
    },
    "papermill": {
     "duration": 2.107543,
     "end_time": "2021-07-27T11:10:13.300649",
     "exception": false,
     "start_time": "2021-07-27T11:10:11.193106",
     "status": "completed"
    },
    "tags": []
   },
   "outputs": [],
   "source": [
    "from sklearn.model_selection import train_test_split\n",
    "train, test = train_test_split(data, test_size=0.2, random_state=1234, stratify=data[[\"Class\"]])"
   ]
  },
  {
   "cell_type": "code",
   "execution_count": 8,
   "id": "d27020c1",
   "metadata": {
    "execution": {
     "iopub.execute_input": "2021-07-27T11:10:13.391100Z",
     "iopub.status.busy": "2021-07-27T11:10:13.381779Z",
     "iopub.status.idle": "2021-07-27T11:10:13.394733Z",
     "shell.execute_reply": "2021-07-27T11:10:13.394166Z",
     "shell.execute_reply.started": "2021-07-27T10:30:21.330478Z"
    },
    "papermill": {
     "duration": 0.076111,
     "end_time": "2021-07-27T11:10:13.394892",
     "exception": false,
     "start_time": "2021-07-27T11:10:13.318781",
     "status": "completed"
    },
    "tags": []
   },
   "outputs": [],
   "source": [
    "#Splitting the independent and the class variables into separate data frames\n",
    "X_train = train.iloc[:, train.columns != \"Class\"]\n",
    "y_train = train.iloc[:, train.columns == \"Class\"]\n",
    "X_test = test.iloc[:, test.columns != \"Class\"]\n",
    "y_test = test.iloc[:, test.columns == \"Class\"] "
   ]
  },
  {
   "cell_type": "code",
   "execution_count": 9,
   "id": "f3bf474d",
   "metadata": {
    "execution": {
     "iopub.execute_input": "2021-07-27T11:10:13.439306Z",
     "iopub.status.busy": "2021-07-27T11:10:13.438477Z",
     "iopub.status.idle": "2021-07-27T11:10:14.679582Z",
     "shell.execute_reply": "2021-07-27T11:10:14.678945Z",
     "shell.execute_reply.started": "2021-07-27T10:30:21.384300Z"
    },
    "papermill": {
     "duration": 1.266808,
     "end_time": "2021-07-27T11:10:14.679757",
     "exception": false,
     "start_time": "2021-07-27T11:10:13.412949",
     "status": "completed"
    },
    "tags": []
   },
   "outputs": [
    {
     "data": {
      "image/png": "[encoded data removed]",
      "text/plain": [
       "<Figure size 432x288 with 1 Axes>"
      ]
     },
     "metadata": {
      "needs_background": "light"
     },
     "output_type": "display_data"
    },
    {
     "data": {
      "image/png": "[encoded data removed]",
      "text/plain": [
       "<Figure size 432x288 with 1 Axes>"
      ]
     },
     "metadata": {},
     "output_type": "display_data"
    }
   ],
   "source": [
    "#Oversampling using SMOTE to rectify the imbalance in the dataset\n",
    "from imblearn.over_sampling import SMOTE\n",
    "X_train_smote, y_train_smote = SMOTE(random_state=1234).fit_resample(X_train, y_train)\n",
    "sns.countplot('Class', data=y_train_smote)\n",
    "plt.title('Class Distribution after SMOTE \\n (0: Not Fraud | 1: Fraud)', fontsize=14)\n",
    "plt.show()\n",
    "label=['Not Fraud', 'Fraud']\n",
    "fig = plt.pie(y_train_smote['Class'].value_counts(),labels=label,autopct='%1.2f%%',radius=1.25)\n",
    "plt.show()"
   ]
  },
  {
   "cell_type": "code",
   "execution_count": 10,
   "id": "dcc65b7f",
   "metadata": {
    "execution": {
     "iopub.execute_input": "2021-07-27T11:10:14.726288Z",
     "iopub.status.busy": "2021-07-27T11:10:14.725530Z",
     "iopub.status.idle": "2021-07-27T11:10:14.839431Z",
     "shell.execute_reply": "2021-07-27T11:10:14.838655Z",
     "shell.execute_reply.started": "2021-07-27T10:30:22.835242Z"
    },
    "papermill": {
     "duration": 0.139691,
     "end_time": "2021-07-27T11:10:14.839598",
     "exception": false,
     "start_time": "2021-07-27T11:10:14.699907",
     "status": "completed"
    },
    "tags": []
   },
   "outputs": [],
   "source": [
    "X_test_smote, y_test_smote = SMOTE(random_state=1234).fit_resample(X_test, y_test)\n",
    "# Turning into arrays for feeding the classification algorithms\n",
    "X_train = X_train_smote.values\n",
    "X_test = X_test_smote.values\n",
    "y_train = y_train_smote.values\n",
    "y_test = y_test_smote.values"
   ]
  },
  {
   "cell_type": "code",
   "execution_count": 11,
   "id": "2bc7af67",
   "metadata": {
    "execution": {
     "iopub.execute_input": "2021-07-27T11:10:14.889127Z",
     "iopub.status.busy": "2021-07-27T11:10:14.888130Z",
     "iopub.status.idle": "2021-07-27T11:10:14.891578Z",
     "shell.execute_reply": "2021-07-27T11:10:14.890850Z",
     "shell.execute_reply.started": "2021-07-27T10:30:22.966254Z"
    },
    "papermill": {
     "duration": 0.031847,
     "end_time": "2021-07-27T11:10:14.891745",
     "exception": false,
     "start_time": "2021-07-27T11:10:14.859898",
     "status": "completed"
    },
    "tags": []
   },
   "outputs": [],
   "source": [
    "from sklearn.linear_model import LogisticRegression\n",
    "from sklearn.svm import SVC\n",
    "from sklearn.neighbors import KNeighborsClassifier\n",
    "from sklearn.tree import DecisionTreeClassifier\n",
    "from sklearn.ensemble import RandomForestClassifier\n",
    "from sklearn.model_selection import cross_val_score\n",
    "from sklearn.metrics import confusion_matrix\n",
    "from sklearn.metrics import accuracy_score, recall_score, roc_auc_score, precision_score, f1_score"
   ]
  },
  {
   "cell_type": "code",
   "execution_count": 12,
   "id": "7e2074dd",
   "metadata": {
    "execution": {
     "iopub.execute_input": "2021-07-27T11:10:14.941396Z",
     "iopub.status.busy": "2021-07-27T11:10:14.940629Z",
     "iopub.status.idle": "2021-07-27T11:34:42.348130Z",
     "shell.execute_reply": "2021-07-27T11:34:42.347440Z",
     "shell.execute_reply.started": "2021-07-27T10:30:22.974782Z"
    },
    "papermill": {
     "duration": 1467.436299,
     "end_time": "2021-07-27T11:34:42.348448",
     "exception": false,
     "start_time": "2021-07-27T11:10:14.912149",
     "status": "completed"
    },
    "tags": []
   },
   "outputs": [
    {
     "name": "stdout",
     "output_type": "stream",
     "text": [
      "KNeighborsClassifier has 100.0 % accuracy on the training dataset\n",
      "DecisionTreeClassifier has 100.0 % accuracy on the training dataset\n"
     ]
    },
    {
     "data": {
      "image/png": "[encoded data removed]",
      "text/plain": [
       "<Figure size 432x288 with 1 Axes>"
      ]
     },
     "metadata": {
      "needs_background": "light"
     },
     "output_type": "display_data"
    }
   ],
   "source": [
    "classifiers = {\n",
    "    \"K Neighbors Classifier\": KNeighborsClassifier(),\n",
    "    \"Decision Tree Classifier\": DecisionTreeClassifier()\n",
    "}\n",
    "cross_val=[0,0]\n",
    "i=0\n",
    "for key, classifier in classifiers.items():\n",
    "    cross_val[i] = cross_val_score(classifier, X_train, y_train, cv=10).mean()\n",
    "    print(classifier.__class__.__name__, \"has\", round(cross_val[i], 2) * 100, \"% accuracy on the training dataset\")\n",
    "    i+=1 \n",
    "plt.bar(['K Neighbors','Decision Tree'],cross_val) \n",
    "plt.title('Cross Validation Scores on Training Data')\n",
    "plt.xlabel('Classifier')\n",
    "plt.ylabel('Score')\n",
    "plt.show()"
   ]
  },
  {
   "cell_type": "code",
   "execution_count": 13,
   "id": "1f65ca5b",
   "metadata": {
    "execution": {
     "iopub.execute_input": "2021-07-27T11:34:42.401422Z",
     "iopub.status.busy": "2021-07-27T11:34:42.400649Z",
     "iopub.status.idle": "2021-07-27T11:41:16.893845Z",
     "shell.execute_reply": "2021-07-27T11:41:16.893135Z",
     "shell.execute_reply.started": "2021-07-27T10:58:14.496910Z"
    },
    "papermill": {
     "duration": 394.524348,
     "end_time": "2021-07-27T11:41:16.894081",
     "exception": false,
     "start_time": "2021-07-27T11:34:42.369733",
     "status": "completed"
    },
    "tags": []
   },
   "outputs": [],
   "source": [
    "y_pred=[]\n",
    "cm=[]\n",
    "f1=[]\n",
    "acc=[]\n",
    "rec=[]\n",
    "prc=[]\n",
    "roc=[]\n",
    "for key, classifier in classifiers.items():\n",
    "    classifier.fit(X_train, y_train)\n",
    "    y_pred.append(classifier.predict(X_test))\n",
    "    cm.append(confusion_matrix(y_test,y_pred[len(y_pred)-1]))\n",
    "    f1.append(f1_score(y_test,y_pred[len(y_pred)-1]))\n",
    "    acc.append(f1_score(y_test,y_pred[len(y_pred)-1]))\n",
    "    rec.append(f1_score(y_test,y_pred[len(y_pred)-1]))\n",
    "    prc.append(f1_score(y_test,y_pred[len(y_pred)-1]))\n",
    "    roc.append(roc_auc_score(y_test,y_pred[len(y_pred)-1]))"
   ]
  },
  {
   "cell_type": "code",
   "execution_count": 14,
   "id": "ccfb7377",
   "metadata": {
    "execution": {
     "iopub.execute_input": "2021-07-27T11:41:16.954687Z",
     "iopub.status.busy": "2021-07-27T11:41:16.953841Z",
     "iopub.status.idle": "2021-07-27T11:41:17.151946Z",
     "shell.execute_reply": "2021-07-27T11:41:17.151218Z",
     "shell.execute_reply.started": "2021-07-27T11:06:02.900283Z"
    },
    "papermill": {
     "duration": 0.235786,
     "end_time": "2021-07-27T11:41:17.152138",
     "exception": false,
     "start_time": "2021-07-27T11:41:16.916352",
     "status": "completed"
    },
    "tags": []
   },
   "outputs": [
    {
     "data": {
      "image/png": "[encoded data removed]",
      "text/plain": [
       "<Figure size 864x360 with 1 Axes>"
      ]
     },
     "metadata": {
      "needs_background": "light"
     },
     "output_type": "display_data"
    },
    {
     "data": {
      "image/png": "[encoded data removed]",
      "text/plain": [
       "<Figure size 864x360 with 1 Axes>"
      ]
     },
     "metadata": {
      "needs_background": "light"
     },
     "output_type": "display_data"
    }
   ],
   "source": [
    "plt.figure(figsize=(12,5))\n",
    "sns.heatmap(cm[0] ,annot=True, fmt='1.0f',xticklabels=['Actual Non-Fraud','Actual Fraud'], yticklabels=['Predicted Non-Fraud','Predicted Fraud'],cbar=False)\n",
    "plt.title('K Neighbors Classifier Performance')\n",
    "plt.show()\n",
    "\n",
    "plt.figure(figsize=(12,5))\n",
    "sns.heatmap(cm[1] ,annot=True, fmt='1.0f',xticklabels=['Actual Non-Fraud','Actual Fraud'], yticklabels=['Predicted Non-Fraud','Predicted Fraud'],cbar=False)\n",
    "plt.title('Decision Tree Classifier Performance')\n",
    "plt.show()"
   ]
  },
  {
   "cell_type": "code",
   "execution_count": 15,
   "id": "14ee2aa4",
   "metadata": {
    "execution": {
     "iopub.execute_input": "2021-07-27T11:41:17.253280Z",
     "iopub.status.busy": "2021-07-27T11:41:17.232058Z",
     "iopub.status.idle": "2021-07-27T11:41:17.401471Z",
     "shell.execute_reply": "2021-07-27T11:41:17.400795Z",
     "shell.execute_reply.started": "2021-07-27T11:06:03.134117Z"
    },
    "papermill": {
     "duration": 0.226298,
     "end_time": "2021-07-27T11:41:17.401623",
     "exception": false,
     "start_time": "2021-07-27T11:41:17.175325",
     "status": "completed"
    },
    "tags": []
   },
   "outputs": [
    {
     "data": {
      "image/png": "[encoded data removed]",
      "text/plain": [
       "<Figure size 720x576 with 1 Axes>"
      ]
     },
     "metadata": {
      "needs_background": "light"
     },
     "output_type": "display_data"
    }
   ],
   "source": [
    "kn = pd.DataFrame(data=[f1[0],acc[0],rec[0],prc[0],roc[0]],columns=['K Neighbors Classifier'],index=[\"F1\",\"Accuracy\", \"Recall\", \"Precision\", \"ROC AUC Score\"])\n",
    "dt = pd.DataFrame(data=[f1[1],acc[1],rec[1],prc[1],roc[1]],columns=['Decision Tree Classifier'],index=[\"F1\",\"Accuracy\", \"Recall\", \"Precision\", \"ROC AUC Score\"])\n",
    "model_comp = round(pd.concat([kn,dt], axis=1),2)\n",
    "fig = plt.figure(figsize=(10,8)) \n",
    "gs = fig.add_gridspec(4, 2)\n",
    "gs.update(wspace=0.1, hspace=0.5)\n",
    "ax0 = fig.add_subplot(gs[0, :])\n",
    "\n",
    "sns.heatmap(model_comp.T,annot=True,fmt=\".1%\",vmin=0,vmax=0.95, linewidths=2.5,cbar=False,ax=ax0,annot_kws={\"fontsize\":12})\n",
    "ax0.text(0,-0.2,'Comparison of Classifiers',fontsize=18)\n",
    "ax0.tick_params(axis=u'both', which=u'both',length=0)\n",
    "plt.show()"
   ]
  }
 ],
 "metadata": {
  "kernelspec": {
   "display_name": "Python 3",
   "language": "python",
   "name": "python3"
  },
  "language_info": {
   "codemirror_mode": {
    "name": "ipython",
    "version": 3
   },
   "file_extension": ".py",
   "mimetype": "text/x-python",
   "name": "python",
   "nbconvert_exporter": "python",
   "pygments_lexer": "ipython3",
   "version": "3.7.10"
  },
  "papermill": {
   "default_parameters": {},
   "duration": 1884.689385,
   "end_time": "2021-07-27T11:41:19.239935",
   "environment_variables": {},
   "exception": null,
   "input_path": "__notebook__.ipynb",
   "output_path": "__notebook__.ipynb",
   "parameters": {},
   "start_time": "2021-07-27T11:09:54.550550",
   "version": "2.3.3"
  }
 },
 "nbformat": 4,
 "nbformat_minor": 5
}
